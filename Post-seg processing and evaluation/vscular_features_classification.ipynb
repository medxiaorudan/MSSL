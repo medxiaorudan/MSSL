{
 "cells": [
  {
   "cell_type": "code",
   "execution_count": 1,
   "metadata": {},
   "outputs": [],
   "source": [
    "##all coding is runing on env theano_3\n",
    "# set plots inline for ipython\n",
    "%matplotlib inline\n",
    "\n",
    "# import system & ipython utils\n",
    "import os\n",
    "import subprocess\n",
    "from IPython.display import Image\n",
    "import time\n",
    "\n",
    "# numpy and visualization libs\n",
    "import pandas as pd\n",
    "import numpy as np\n",
    "import seaborn as sns\n",
    "import matplotlib.pyplot as plt\n",
    "\n",
    "# import data preprocessing, cross validaiton\n",
    "\n",
    "from sklearn.preprocessing import StandardScaler\n",
    "\n",
    "\n",
    "from sklearn.tree import export_graphviz\n",
    "\n",
    "# classifiers\n",
    "from sklearn.neighbors import KNeighborsClassifier\n",
    "from sklearn.tree import DecisionTreeClassifier\n",
    "from sklearn.svm import SVC\n",
    "from sklearn.ensemble import AdaBoostClassifier\n",
    "from sklearn.ensemble import RandomForestClassifier, GradientBoostingClassifier\n",
    "from sklearn.linear_model import LinearRegression, LogisticRegression\n",
    "\n",
    "\n",
    "# performance measures\n",
    "from sklearn.metrics import classification_report\n",
    "from sklearn.metrics import log_loss, hamming_loss, mean_squared_error\n",
    "from sklearn.metrics import roc_curve, auc\n",
    "from sklearn.metrics import matthews_corrcoef, f1_score, precision_score, recall_score\n",
    "from sklearn.metrics import accuracy_score\n",
    "\n",
    "from sklearn.metrics import confusion_matrix\n",
    "from sklearn.utils import shuffle\n",
    "\n",
    "# personal libs\n",
    "from mwutil.ml import run_training_range\n",
    "from mwutil.ml import compare_classifiers\n",
    "\n",
    "# set random seed\n",
    "rand_state = np.random.RandomState(32)\n",
    "# set the scoring function\n",
    "# set the scoring function\n",
    "scoring_function_label = 'f1_weighted'\n",
    "scoring_function = f1_score\n",
    "\n",
    "# set number of folds for cross validation\n",
    "n_folds = 3\n",
    "\n",
    "# init an empty dict to hold all models for final analysis & comparison\n",
    "classifiers = {}\n",
    "\n",
    "# define the number of 'stages' aka bins to map the UPDRS scores\n",
    "n_stages = 55\n",
    "\n",
    "# set updrs metric (total or motor)\n",
    "#updrs_measure = 'total_UPDRS'\n",
    "\n",
    "# subsampling (-1 for no subsampling)\n",
    "subsample_n = -1"
   ]
  },
  {
   "cell_type": "code",
   "execution_count": 2,
   "metadata": {},
   "outputs": [],
   "source": [
    "# start the wall clock\n",
    "start = time.time()"
   ]
  },
  {
   "cell_type": "markdown",
   "metadata": {},
   "source": [
    "#Data I/O & Preprocessing"
   ]
  },
  {
   "cell_type": "code",
   "execution_count": 13,
   "metadata": {},
   "outputs": [],
   "source": [
    "# set path to dataset\n",
    "train_data_path = 'D:/test_vascular_mask/test/all_features200_all.csv'\n",
    "test_data_path = 'D:/test_vascular_mask/test/clean_prune_skel_all_features_100.csv'\n",
    "\n",
    "df_train = pd.read_csv(train_data_path)\n",
    "df_test = pd.read_csv(test_data_path)\n",
    "\n",
    "df_train.dropna(inplace=True)\n",
    "df_train.reset_index(drop=True,inplace=True)\n",
    "df_test.dropna(inplace=True)\n",
    "df_test.reset_index(drop=True,inplace=True)\n",
    "\n",
    "df_train = shuffle(df_train)\n",
    "df_test = shuffle(df_test)\n",
    "\n",
    "df_train.columns=['ID','NE','small_NE','big_NE','NJ', 'LE', 'LJ', 'NE/NJ', \n",
    "            'LE/LJ', 'NJ/(LJ+LE)','LJ/(LJ+LE)','NE/(LJ+LE)', 'mean_Area', 'median_Area', 'mean_Perimeter', \n",
    "            'median_Perimeter', 'mean_Eccentricity', 'median_Eccentricity','density','case','class']\n",
    "df_test.columns=['ID','NE','small_NE','big_NE', 'NJ', 'LE', 'LJ', 'NE/NJ', \n",
    "            'LE/LJ', 'NJ/(LJ+LE)','LJ/(LJ+LE)','NE/(LJ+LE)', 'mean_Area', 'median_Area', 'mean_Perimeter', \n",
    "            'median_Perimeter', 'mean_Eccentricity', 'median_Eccentricity','density','class']\n",
    "\n",
    "# split X (features), y (PD stage label) from the dataframe\n",
    "features = ['NE', 'small_NE','big_NE','NJ', 'LE', 'LJ', 'NE/NJ', \n",
    "            'LE/LJ', 'NJ/(LJ+LE)','LJ/(LJ+LE)','NE/(LJ+LE)','mean_Area', 'median_Area', 'mean_Perimeter', \n",
    "            'median_Perimeter', 'mean_Eccentricity', 'median_Eccentricity','density']\n",
    "\n",
    "X_train = df_train[features]\n",
    "X_test = df_test[features]\n",
    "\n",
    "scaler = StandardScaler().fit(X_train)\n",
    "X_train = pd.DataFrame(scaler.transform(X_train), columns = X_train.columns)\n",
    "X_test = pd.DataFrame(scaler.transform(X_test), columns = X_test.columns)\n",
    "\n",
    "y_train = df_train['class']\n",
    "y_test = df_test['class']\n",
    "\n",
    "df=df_test\n",
    "X=X_test"
   ]
  },
  {
   "cell_type": "code",
   "execution_count": 17,
   "metadata": {},
   "outputs": [],
   "source": [
    "# set path to dataset\n",
    "train_data_path = 'D:/test_vascular_mask/test/all_features200_filted1.csv'\n",
    "test_data_path = 'D:/test_vascular_mask/test/clean_prune_skel_all_features_100_filterd.csv'\n",
    "\n",
    "df_train = pd.read_csv(train_data_path)\n",
    "df_test = pd.read_csv(test_data_path)\n",
    "\n",
    "df_train.dropna(inplace=True)\n",
    "df_train.reset_index(drop=True,inplace=True)\n",
    "df_test.dropna(inplace=True)\n",
    "df_test.reset_index(drop=True,inplace=True)\n",
    "\n",
    "df_train = shuffle(df_train)\n",
    "df_test = shuffle(df_test)\n",
    "\n",
    "df_train.columns=['ID','NE','big_NE','NJ', 'LE', 'LJ', 'NE/NJ', \n",
    "            'NJ/(LJ+LE)', 'mean_Area', 'median_Area', \n",
    "            'median_Perimeter', 'mean_Eccentricity', 'median_Eccentricity','density','case','class']\n",
    "df_test.columns=['ID','NE','big_NE', 'NJ', 'LE', 'LJ', 'NE/NJ', \n",
    "           'NJ/(LJ+LE)', 'mean_Area', 'median_Area',\n",
    "            'median_Perimeter', 'mean_Eccentricity', 'median_Eccentricity','density','class']\n",
    "\n",
    "# split X (features), y (PD stage label) from the dataframe\n",
    "features = ['NE', 'big_NE','NJ', 'LE', 'LJ', 'NE/NJ', \n",
    "            'NJ/(LJ+LE)', 'mean_Area', 'median_Area', \n",
    "            'median_Perimeter', 'mean_Eccentricity', 'median_Eccentricity','density']\n",
    "\n",
    "X_train = df_train[features]\n",
    "X_test = df_test[features]\n",
    "\n",
    "scaler = StandardScaler().fit(X_train)\n",
    "X_train = pd.DataFrame(scaler.transform(X_train), columns = X_train.columns)\n",
    "X_test = pd.DataFrame(scaler.transform(X_test), columns = X_test.columns)\n",
    "\n",
    "y_train = df_train['class']\n",
    "y_test = df_test['class']\n",
    "\n",
    "df=df_test\n",
    "X=X_test"
   ]
  },
  {
   "cell_type": "code",
   "execution_count": 9,
   "metadata": {},
   "outputs": [
    {
     "name": "stdout",
     "output_type": "stream",
     "text": [
      "188\n"
     ]
    }
   ],
   "source": [
    "print(len(y_train))"
   ]
  },
  {
   "cell_type": "code",
   "execution_count": 10,
   "metadata": {},
   "outputs": [
    {
     "name": "stdout",
     "output_type": "stream",
     "text": [
      "10\n"
     ]
    }
   ],
   "source": [
    "print(len(y_test))"
   ]
  },
  {
   "cell_type": "code",
   "execution_count": 4,
   "metadata": {},
   "outputs": [],
   "source": [
    "# classifiers\n",
    "from sklearn.neighbors import KNeighborsClassifier\n",
    "from sklearn.tree import DecisionTreeClassifier\n",
    "from sklearn.svm import SVC\n",
    "from sklearn.ensemble import AdaBoostClassifier\n",
    "from sklearn.ensemble import RandomForestClassifier, GradientBoostingClassifier\n",
    "from sklearn.linear_model import LinearRegression, LogisticRegression\n",
    "\n",
    "classifiers={'AdaBoost': AdaBoostClassifier(algorithm='SAMME.R', base_estimator=None,\n",
    "           learning_rate=1.0, n_estimators=181,\n",
    "          random_state=rand_state),\n",
    " 'DecisionTree': DecisionTreeClassifier(class_weight=None, criterion='gini', max_depth=8,\n",
    "             max_features=None, max_leaf_nodes=None, min_samples_leaf=1,\n",
    "             min_samples_split=2, min_weight_fraction_leaf=0.0,\n",
    "             presort=False,\n",
    "             random_state=rand_state,\n",
    "             splitter='best'),\n",
    " 'Gradient Boosting Trees': GradientBoostingClassifier(init=None, learning_rate=0.1, loss='deviance',\n",
    "               max_depth=3, max_features=None, max_leaf_nodes=None,\n",
    "               min_samples_leaf=1, min_samples_split=2,\n",
    "               min_weight_fraction_leaf=0.0, n_estimators=299,\n",
    "               presort='auto',\n",
    "               random_state=rand_state,\n",
    "               subsample=1.0, verbose=0, warm_start=False),\n",
    " 'KNN': KNeighborsClassifier(algorithm='auto', leaf_size=30, metric='minkowski',\n",
    "            metric_params=None, n_jobs=1, n_neighbors=35, p=2,\n",
    "            weights='uniform'),\n",
    " 'Logistic Regression': LogisticRegression(C=1.0, class_weight=None, dual=False, fit_intercept=True,\n",
    "           intercept_scaling=1, max_iter=6, multi_class='ovr', n_jobs=1,\n",
    "           penalty='l2', random_state=rand_state,\n",
    "           solver='liblinear', tol=0.0001, verbose=0, warm_start=False),\n",
    " 'Random Forest': RandomForestClassifier(bootstrap=True, class_weight=None, criterion='gini',\n",
    "             max_depth=None, max_features='auto', max_leaf_nodes=None,\n",
    "             min_samples_leaf=1, min_samples_split=2,\n",
    "             min_weight_fraction_leaf=0.0, n_estimators=219, n_jobs=1,\n",
    "             oob_score=False,\n",
    "             random_state=rand_state, verbose=0,\n",
    "             warm_start=False),\n",
    " 'svm_rbf': SVC(C=451, cache_size=200, class_weight='balanced', coef0=0.0,\n",
    "   decision_function_shape=\"ovo\", degree=3, gamma=0.01, kernel='rbf',\n",
    "   max_iter=-1, probability=False,\n",
    "   random_state=rand_state, shrinking=True,\n",
    "   tol=0.001, verbose=False),\n",
    " 'svm_sigmoid': SVC(C=1.0, cache_size=200, class_weight='balanced', coef0=0.0,\n",
    "   decision_function_shape=\"ovo\", degree=3, gamma=0.001, kernel='sigmoid',\n",
    "   max_iter=-1, probability=False,\n",
    "   random_state=rand_state, shrinking=True,\n",
    "   tol=0.001, verbose=False)}\n"
   ]
  },
  {
   "cell_type": "code",
   "execution_count": 5,
   "metadata": {},
   "outputs": [],
   "source": [
    "#when input is slices of one group\n",
    "def predict_patient_slices(slices):\n",
    "    y=model.predict(slices)\n",
    "    p1=sum(y)/len(y)\n",
    "    p=[1-p1,p1]\n",
    "    label=np.argmax(p)\n",
    "    return label\n",
    "\n",
    "#when input are all group of slices\n",
    "def predict_patient(dict_group):\n",
    "    patient_label = []\n",
    "    for keys,values in dict_group.items():\n",
    "        y=values['predict_label']\n",
    "        p1 = sum(y)/len(y)\n",
    "        p = [1-p1,p1]\n",
    "        label_predict = np.argmax(p)\n",
    "        label_true = np.array(values['true_label'])[0:1]\n",
    "        patient_label.append([int(keys),label_predict,label_true])\n",
    "        t = pd.DataFrame(patient_label)\n",
    "        t.columns = ['patient_id','label_predict','label_true']\n",
    "    return t\n",
    "\n",
    "#find bad data of all group of slices based on threshold\n",
    "def get_bad_data(dict_group,theta):\n",
    "    res=[]\n",
    "    for key,value in dict_group.items():\n",
    "        y=value['predict_label']\n",
    "        right=(y==value['true_label'])\n",
    "        p=sum(right)/len(right)\n",
    "        if p<theta:\n",
    "            res.append(key)\n",
    "    return res\n",
    "\n",
    "## Confusion Matricies\n",
    "def confusion_matrix_patient(dict_group,patient_label_true):\n",
    "    patient_label_predict = []\n",
    "    for keys,values in dict_group.items():\n",
    "        y=values['predict_label']\n",
    "        p1 = sum(y)/len(y)\n",
    "        p = [1-p1,p1]\n",
    "        label_predict = np.argmax(p)\n",
    "        patient_label_predict.append(label_predict)\n",
    "        pd.DataFrame(patient_label_predict)\n",
    "    cm = confusion_matrix(patient_label_true, patient_label_predict)\n",
    "    cm_nor = np.empty(shape=[2, 2])\n",
    "    cm_nor[0][0]=cm[0][0]/(cm[0][0]+cm[1][0])\n",
    "    cm_nor[0][1]=cm[1][0]/(cm[0][0]+cm[1][0])\n",
    "    cm_nor[1][0]=cm[1][0]/(cm[0][1]+cm[1][1])\n",
    "    cm_nor[1][1]=cm[1][1]/(cm[0][1]+cm[1][1])\n",
    "    return cm_nor\n",
    "\n"
   ]
  },
  {
   "cell_type": "code",
   "execution_count": 18,
   "metadata": {},
   "outputs": [
    {
     "name": "stderr",
     "output_type": "stream",
     "text": [
      "D:\\anaconda3\\lib\\site-packages\\sklearn\\tree\\_classes.py:327: FutureWarning: The parameter 'presort' is deprecated and has no effect. It will be removed in v0.24. You can suppress this warning by not passing any value to the 'presort' parameter.\n",
      "  FutureWarning)\n",
      "D:\\anaconda3\\lib\\site-packages\\sklearn\\ensemble\\_gb.py:309: FutureWarning: The parameter 'presort' is deprecated and has no effect. It will be removed in v0.24. You can suppress this warning by not passing any value to the 'presort' parameter. We also recommend using HistGradientBoosting models instead.\n",
      "  FutureWarning)\n",
      "D:\\anaconda3\\lib\\site-packages\\sklearn\\svm\\_base.py:977: ConvergenceWarning: Liblinear failed to converge, increase the number of iterations.\n",
      "  \"the number of iterations.\", ConvergenceWarning)\n"
     ]
    },
    {
     "data": {
      "image/png": "[encoded data removed]",
      "text/plain": [
       "<Figure size 1440x1296 with 17 Axes>"
      ]
     },
     "metadata": {
      "needs_background": "light"
     },
     "output_type": "display_data"
    }
   ],
   "source": [
    "from sklearn.metrics import confusion_matrix\n",
    "fig, axs = plt.subplots(3,3)\n",
    "fig.set_size_inches(20,18)\n",
    "for i, (label, clf) in enumerate(zip(classifiers.keys(), classifiers.values())):\n",
    "    clf.fit(X_train, y_train.astype('int32'))\n",
    "    M = confusion_matrix(y_test, clf.predict(X_test)) \n",
    "    M_nor=np.empty(shape=[2,2])\n",
    "    M_nor[0][0]=M[0][0]/(M[0][0]+M[1][0])\n",
    "    M_nor[0][1]=M[1][0]/(M[0][0]+M[1][0])\n",
    "    M_nor[1][0]=M[0][1]/(M[0][1]+M[1][1])\n",
    "    M_nor[1][1]=M[1][1]/(M[0][1]+M[1][1])\n",
    "    sns.heatmap(M, ax=axs.flat[i], cmap=\"jet\", annot=True, annot_kws={'size':19,'weight':'bold', 'color':'white'})\n",
    "    axs.flat[i].set_title(label,fontsize=20)"
   ]
  },
  {
   "cell_type": "code",
   "execution_count": null,
   "metadata": {},
   "outputs": [],
   "source": []
  },
  {
   "cell_type": "code",
   "execution_count": 7,
   "metadata": {},
   "outputs": [],
   "source": [
    "def get_bad_data(X_train, y_train, X_test, y_test,all_dataframe,clf):\n",
    "    res=[]\n",
    "    M = np.empty(shape=[2, 2])\n",
    "    clf.fit(X_train,y_train)\n",
    "    y_pred=clf.predict(X_test)\n",
    "    index = np.arange(0,len(y_test))\n",
    "    bad_index=index[y_test != y_pred]\n",
    "    for i in bad_index:\n",
    "            bad=all_dataframe[\"ID\"][i]\n",
    "            res.append(bad)\n",
    "    return bad_index"
   ]
  },
  {
   "cell_type": "code",
   "execution_count": 8,
   "metadata": {},
   "outputs": [
    {
     "ename": "SyntaxError",
     "evalue": "invalid syntax (<ipython-input-8-5762e2695953>, line 1)",
     "output_type": "error",
     "traceback": [
      "\u001b[1;36m  File \u001b[1;32m\"<ipython-input-8-5762e2695953>\"\u001b[1;36m, line \u001b[1;32m1\u001b[0m\n\u001b[1;33m    def get_bad_data(all_dataframe,clf)    res=[]\u001b[0m\n\u001b[1;37m                                             ^\u001b[0m\n\u001b[1;31mSyntaxError\u001b[0m\u001b[1;31m:\u001b[0m invalid syntax\n"
     ]
    }
   ],
   "source": [
    "def get_bad_data(all_dataframe,clf)    \n",
    "    res=[]\n",
    "    M = np.empty(shape=[2, 2])\n",
    "    X=all_dataframe[features]\n",
    "    y=all_dataframe['true_label']:\n",
    "\n",
    "    clf.fit(X,y)\n",
    "    y_pred=clf.predict(X)\n",
    "    index = np.arange(0,len(y))\n",
    "    bad_index=index[y != y_pred]\n",
    "    for i in bad_index:\n",
    "            bad=str(all_dataframe[\"true_label\"][i])+\"_\"+str(all_dataframe[\"case\"][i])+\"_\"+str(all_dataframe[\"ID\"][i])\n",
    "            res.append(bad)\n",
    "    return res"
   ]
  },
  {
   "cell_type": "code",
   "execution_count": null,
   "metadata": {},
   "outputs": [],
   "source": [
    "RandomForest=RandomForestClassifier(bootstrap=True, class_weight=None, criterion='gini',\n",
    "             max_depth=None, max_features='auto', max_leaf_nodes=None,\n",
    "             min_samples_leaf=1, min_samples_split=2,\n",
    "             min_weight_fraction_leaf=0.0, n_estimators=219, n_jobs=1,\n",
    "             oob_score=False,\n",
    "             random_state=rand_state, verbose=0,\n",
    "             warm_start=False)"
   ]
  },
  {
   "cell_type": "code",
   "execution_count": null,
   "metadata": {},
   "outputs": [],
   "source": [
    "get_bad_data(X_train, y_train, X_test, y_test,all_dataframe,RandomForest)"
   ]
  },
  {
   "cell_type": "code",
   "execution_count": null,
   "metadata": {},
   "outputs": [],
   "source": [
    "confusion_matrix(y_test, RandomForest.predict(X_test)) "
   ]
  },
  {
   "cell_type": "code",
   "execution_count": null,
   "metadata": {},
   "outputs": [],
   "source": []
  },
  {
   "cell_type": "code",
   "execution_count": 9,
   "metadata": {},
   "outputs": [],
   "source": [
    "##plot Confusion Matricies by MajorityVote for classifiers\n",
    "from sklearn.metrics import confusion_matrix\n",
    "\n",
    "def training_MajorityVote_classifiers(X_train,X_test,y_train,y_test, classifiers):    \n",
    "    res=[]\n",
    "#    M = np.empty(shape=[2, 2])\n",
    "#    X=all_dataframe[features]\n",
    "#    y=all_dataframe['true_label']\n",
    "    for clf in classifiers.values():\n",
    "        clf.fit(X_train,y_train)\n",
    "        y_pred=clf.predict(X_test)\n",
    "        res.append(y_pred)\n",
    "    \n",
    "    y_pred_last=[]\n",
    "    for j in range(len(y_test)):\n",
    "        if sum(pd.DataFrame(res)[j]==y_test[j])>len(classifiers)/2:\n",
    "            y_pred_last.append(y_test[j])\n",
    "        else:\n",
    "            y_pred_last.append(1-y_test[j])\n",
    "\n",
    "    CM=confusion_matrix(y_test, y_pred_last)\n",
    "\n",
    "    return res,CM,y_pred_last\n"
   ]
  },
  {
   "cell_type": "code",
   "execution_count": 19,
   "metadata": {},
   "outputs": [
    {
     "name": "stderr",
     "output_type": "stream",
     "text": [
      "D:\\anaconda3\\lib\\site-packages\\sklearn\\tree\\_classes.py:327: FutureWarning: The parameter 'presort' is deprecated and has no effect. It will be removed in v0.24. You can suppress this warning by not passing any value to the 'presort' parameter.\n",
      "  FutureWarning)\n",
      "D:\\anaconda3\\lib\\site-packages\\sklearn\\ensemble\\_gb.py:309: FutureWarning: The parameter 'presort' is deprecated and has no effect. It will be removed in v0.24. You can suppress this warning by not passing any value to the 'presort' parameter. We also recommend using HistGradientBoosting models instead.\n",
      "  FutureWarning)\n",
      "D:\\anaconda3\\lib\\site-packages\\sklearn\\svm\\_base.py:977: ConvergenceWarning: Liblinear failed to converge, increase the number of iterations.\n",
      "  \"the number of iterations.\", ConvergenceWarning)\n"
     ]
    }
   ],
   "source": [
    "res,M,y_pred_last=training_MajorityVote_classifiers(X_train,X_test,y_train,y_test, classifiers)"
   ]
  },
  {
   "cell_type": "code",
   "execution_count": 24,
   "metadata": {},
   "outputs": [
    {
     "data": {
      "text/plain": [
       "array([[5, 0],\n",
       "       [2, 3]], dtype=int64)"
      ]
     },
     "execution_count": 24,
     "metadata": {},
     "output_type": "execute_result"
    }
   ],
   "source": [
    "confusion_matrix(y_test, y_pred_last)"
   ]
  },
  {
   "cell_type": "code",
   "execution_count": 25,
   "metadata": {},
   "outputs": [
    {
     "data": {
      "text/plain": [
       "array([[5, 0],\n",
       "       [2, 3]], dtype=int64)"
      ]
     },
     "execution_count": 25,
     "metadata": {},
     "output_type": "execute_result"
    }
   ],
   "source": [
    "M"
   ]
  },
  {
   "cell_type": "code",
   "execution_count": 40,
   "metadata": {},
   "outputs": [
    {
     "data": {
      "text/plain": [
       "array([[1. , 0. ],\n",
       "       [0.4, 0.6]])"
      ]
     },
     "execution_count": 40,
     "metadata": {},
     "output_type": "execute_result"
    }
   ],
   "source": [
    "#正确的M_nor\n",
    "M_nor = np.empty(shape=[2, 2])\n",
    "M=confusion_matrix(y_test, y_pred_last)\n",
    "M_nor[0][0]=M[0][0]/(M[0][0]+M[0][1])\n",
    "M_nor[0][1]=M[0][1]/(M[0][0]+M[0][1])\n",
    "M_nor[1][0]=M[1][0]/(M[1][0]+M[1][1])\n",
    "M_nor[1][1]=M[1][1]/(M[1][0]+M[1][1])\n",
    "M_nor"
   ]
  },
  {
   "cell_type": "code",
   "execution_count": 39,
   "metadata": {},
   "outputs": [
    {
     "data": {
      "text/plain": [
       "<AxesSubplot:>"
      ]
     },
     "execution_count": 39,
     "metadata": {},
     "output_type": "execute_result"
    },
    {
     "data": {
      "image/png": "[encoded data removed]",
      "text/plain": [
       "<Figure size 432x288 with 2 Axes>"
      ]
     },
     "metadata": {
      "needs_background": "light"
     },
     "output_type": "display_data"
    }
   ],
   "source": [
    "fig, axs = plt.subplots(1,1)\n",
    "sns.heatmap(M_nor, cmap=\"jet\", annot=True, annot_kws={'size':19,'weight':'bold', 'color':'white'})"
   ]
  },
  {
   "cell_type": "code",
   "execution_count": null,
   "metadata": {},
   "outputs": [],
   "source": []
  },
  {
   "cell_type": "code",
   "execution_count": null,
   "metadata": {},
   "outputs": [],
   "source": []
  }
 ],
 "metadata": {
  "kernelspec": {
   "display_name": "Python 3",
   "language": "python",
   "name": "python3"
  },
  "language_info": {
   "codemirror_mode": {
    "name": "ipython",
    "version": 3
   },
   "file_extension": ".py",
   "mimetype": "text/x-python",
   "name": "python",
   "nbconvert_exporter": "python",
   "pygments_lexer": "ipython3",
   "version": "3.7.3"
  }
 },
 "nbformat": 4,
 "nbformat_minor": 1
}
